{
 "cells": [
  {
   "cell_type": "markdown",
   "metadata": {},
   "source": [
    "Crie uma função que recebe uma lista de números e\n",
    "a. retorne o maior elemento\n",
    "b. retorne a soma dos elementos\n",
    "c. retorne o número de ocorrências do primeiro elemento da lista\n",
    "d. retorne a média dos elementos\n",
    "e. retorne o valor mais próximo da média dos elementos\n",
    "f. retorne a soma dos elementos com valor negativo\n",
    "g. retorne a quantidade de vizinhos iguais\n",
    "DESAFIO: exiba todas as sublistas de 2 elementos possíveis"
   ]
  },
  {
   "cell_type": "code",
   "execution_count": 27,
   "metadata": {},
   "outputs": [
    {
     "name": "stdout",
     "output_type": "stream",
     "text": [
      "9\n"
     ]
    }
   ],
   "source": [
    "# a. retorne o maior elemento\n",
    "def maiorNumero(l):\n",
    "    ls = sorted(l, reverse=True)\n",
    "    return ls[0]\n",
    "          \n",
    "def menorNumero(l):\n",
    "    ls = sorted(l)\n",
    "    return ls[0]\n",
    "\n",
    "lista = [5,8,3,2,9,6,1]\n",
    "print(maiorNumero(lista))\n"
   ]
  },
  {
   "cell_type": "code",
   "execution_count": 3,
   "metadata": {},
   "outputs": [
    {
     "name": "stdout",
     "output_type": "stream",
     "text": [
      "34\n"
     ]
    }
   ],
   "source": [
    "# b. retorne a soma dos elementos\n",
    "def somaNumeros(l):\n",
    "    soma = 0\n",
    "    for i in l:\n",
    "        soma += i\n",
    "    return soma\n",
    "        \n",
    "lista = [5,8,3,2,9,6,1]\n",
    "print(somaNumeros(lista))"
   ]
  },
  {
   "cell_type": "code",
   "execution_count": 1,
   "metadata": {},
   "outputs": [
    {
     "name": "stdout",
     "output_type": "stream",
     "text": [
      "3\n"
     ]
    }
   ],
   "source": [
    "# c. retorne o número de ocorrências do primeiro elemento da lista\n",
    "def primeiroElemento(n):\n",
    "    first = n[0]\n",
    "    tem = 0\n",
    "    for i in n:\n",
    "        if first == i:\n",
    "            tem += 1\n",
    "    return tem\n",
    "    \n",
    "lista = [5,8,3,5,9,5,1]\n",
    "print(primeiroElemento(lista))"
   ]
  },
  {
   "cell_type": "code",
   "execution_count": 20,
   "metadata": {},
   "outputs": [
    {
     "name": "stdout",
     "output_type": "stream",
     "text": [
      "5.142857142857143\n"
     ]
    }
   ],
   "source": [
    "# d. retorne a média dos elementos (soma tudo e divide pela quantidade de elementos)\n",
    "def media(l):\n",
    "    soma = somaNumeros(l)\n",
    "    qtd = len(l)\n",
    "    media = float(soma/qtd)\n",
    "    return media\n",
    "\n",
    "lista = [1,8,3,2,9,7,6]\n",
    "print(media(lista))\n",
    "        "
   ]
  },
  {
   "cell_type": "code",
   "execution_count": 41,
   "metadata": {},
   "outputs": [
    {
     "name": "stdout",
     "output_type": "stream",
     "text": [
      "Media:  5.142857142857143\n",
      "Mais próximo da média:  6\n"
     ]
    }
   ],
   "source": [
    "# e. retorne o valor mais próximo da média dos elementos\n",
    "def maisProximo(l):\n",
    "    m = media(l)\n",
    "    sub = []\n",
    "    for i in l:\n",
    "        if m > i:\n",
    "            sub.append(m-i)\n",
    "        else:\n",
    "            sub.append(i-m)\n",
    "    menor = menorNumero(sub)\n",
    "    for n in sub:\n",
    "        if menor == n:\n",
    "            return l[sub.index(menor)]\n",
    "\n",
    "lista = [1,8,3,2,9,7,6]\n",
    "print('Media: ',media(lista))\n",
    "print('Mais próximo da média: ',maisProximo(lista))"
   ]
  },
  {
   "cell_type": "code",
   "execution_count": null,
   "metadata": {},
   "outputs": [],
   "source": [
    "# f. retorne a soma dos elementos com valor negativo"
   ]
  },
  {
   "cell_type": "code",
   "execution_count": null,
   "metadata": {},
   "outputs": [],
   "source": [
    "# g. retorne a quantidade de vizinhos iguais"
   ]
  }
 ],
 "metadata": {
  "kernelspec": {
   "display_name": "Python 3",
   "language": "python",
   "name": "python3"
  },
  "language_info": {
   "codemirror_mode": {
    "name": "ipython",
    "version": 3
   },
   "file_extension": ".py",
   "mimetype": "text/x-python",
   "name": "python",
   "nbconvert_exporter": "python",
   "pygments_lexer": "ipython3",
   "version": "3.6.5"
  }
 },
 "nbformat": 4,
 "nbformat_minor": 2
}
